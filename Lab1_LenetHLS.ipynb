{
  "nbformat": 4,
  "nbformat_minor": 0,
  "metadata": {
    "colab": {
      "name": "Lab1-LenetHLS.ipynb",
      "provenance": [],
      "collapsed_sections": [],
      "mount_file_id": "1K0tyE0hjD7tjXc0MpM2hd7ap6P2eOb4g",
      "authorship_tag": "ABX9TyPYViUn7H1rsiK8d6tUPCSo",
      "include_colab_link": true
    },
    "kernelspec": {
      "name": "python3",
      "display_name": "Python 3"
    },
    "language_info": {
      "name": "python"
    }
  },
  "cells": [
    {
      "cell_type": "markdown",
      "metadata": {
        "id": "view-in-github",
        "colab_type": "text"
      },
      "source": [
        "<a href=\"https://colab.research.google.com/github/kaiyi525/Colab_Notebooks/blob/main/Lab1_LenetHLS.ipynb\" target=\"_parent\"><img src=\"https://colab.research.google.com/assets/colab-badge.svg\" alt=\"Open In Colab\"/></a>"
      ]
    },
    {
      "cell_type": "code",
      "metadata": {
        "id": "SmVXskDS_bEI"
      },
      "source": [
        "from tensorflow import keras\n",
        "from tensorflow.keras.datasets import mnist\n",
        "from tensorflow.keras.layers import Conv2D, AvgPool2D, Dense, Flatten\n",
        "from tensorflow.keras.models import Sequential\n",
        "\n",
        "import tensorflow as tf"
      ],
      "execution_count": 13,
      "outputs": []
    },
    {
      "cell_type": "code",
      "metadata": {
        "id": "mJAA7wU_CEEG"
      },
      "source": [
        "(x_train, y_train), (x_test, y_test) = tf.keras.datasets.mnist.load_data()\n",
        "\n",
        "y_train = keras.utils.to_categorical(y_train, 10)\n",
        "y_test = keras.utils.to_categorical(y_test, 10)\n",
        "\n",
        "x_train = x_train / 255.\n",
        "x_test = x_test / 255.\n",
        "\n",
        "x_train = x_train.reshape(-1, 28, 28, 1)\n",
        "x_test=x_test.reshape(-1,28,28,1)"
      ],
      "execution_count": 15,
      "outputs": []
    },
    {
      "cell_type": "code",
      "metadata": {
        "colab": {
          "base_uri": "https://localhost:8080/"
        },
        "id": "duzskLCjDt8X",
        "outputId": "700f279c-8811-4473-80d1-a6e1776a82b8"
      },
      "source": [
        "x_train.shape"
      ],
      "execution_count": 16,
      "outputs": [
        {
          "output_type": "execute_result",
          "data": {
            "text/plain": [
              "(60000, 28, 28, 1)"
            ]
          },
          "metadata": {
            "tags": []
          },
          "execution_count": 16
        }
      ]
    },
    {
      "cell_type": "code",
      "metadata": {
        "id": "WLcog1RBD4t2"
      },
      "source": [
        "lenet = Sequential()\n",
        "lenet.add(Conv2D(6, kernel_size=5, strides=1, padding='same', input_shape=(28, 28, 1)))\n",
        "lenet.add(AvgPool2D(pool_size=2, strides=2))\n",
        "lenet.add(Conv2D(16, kernel_size=5, strides=1, padding='valid'))\n",
        "lenet.add(AvgPool2D(pool_size=2, strides=2))\n",
        "lenet.add(Flatten())\n",
        "lenet.add(Dense(120))\n",
        "lenet.add(Dense(84))\n",
        "lenet.add(Dense(10, activation='softmax'))"
      ],
      "execution_count": 17,
      "outputs": []
    },
    {
      "cell_type": "code",
      "metadata": {
        "colab": {
          "base_uri": "https://localhost:8080/"
        },
        "id": "oKkirn5KEjPS",
        "outputId": "9fdaab0f-e521-4a0e-a057-870c19c98f67"
      },
      "source": [
        "lenet.summary()"
      ],
      "execution_count": 18,
      "outputs": [
        {
          "output_type": "stream",
          "text": [
            "Model: \"sequential\"\n",
            "_________________________________________________________________\n",
            "Layer (type)                 Output Shape              Param #   \n",
            "=================================================================\n",
            "conv2d (Conv2D)              (None, 28, 28, 6)         156       \n",
            "_________________________________________________________________\n",
            "average_pooling2d (AveragePo (None, 14, 14, 6)         0         \n",
            "_________________________________________________________________\n",
            "conv2d_1 (Conv2D)            (None, 10, 10, 16)        2416      \n",
            "_________________________________________________________________\n",
            "average_pooling2d_1 (Average (None, 5, 5, 16)          0         \n",
            "_________________________________________________________________\n",
            "flatten (Flatten)            (None, 400)               0         \n",
            "_________________________________________________________________\n",
            "dense (Dense)                (None, 120)               48120     \n",
            "_________________________________________________________________\n",
            "dense_1 (Dense)              (None, 84)                10164     \n",
            "_________________________________________________________________\n",
            "dense_2 (Dense)              (None, 10)                850       \n",
            "=================================================================\n",
            "Total params: 61,706\n",
            "Trainable params: 61,706\n",
            "Non-trainable params: 0\n",
            "_________________________________________________________________\n"
          ],
          "name": "stdout"
        }
      ]
    },
    {
      "cell_type": "code",
      "metadata": {
        "colab": {
          "base_uri": "https://localhost:8080/"
        },
        "id": "jIWNwrw8EnMX",
        "outputId": "3b4f327b-c6bb-4268-eb6d-4dac2100af35"
      },
      "source": [
        "lenet.compile('sgd', loss='categorical_crossentropy', metrics=['accuracy'])\n",
        "\n",
        "lenet.fit(x_train, y_train, batch_size=64, epochs=2, validation_data=(x_test, y_test))"
      ],
      "execution_count": 20,
      "outputs": [
        {
          "output_type": "stream",
          "text": [
            "Epoch 1/2\n",
            "938/938 [==============================] - 76s 32ms/step - loss: 0.6574 - accuracy: 0.8057 - val_loss: 0.3881 - val_accuracy: 0.8859\n",
            "Epoch 2/2\n",
            "938/938 [==============================] - 29s 31ms/step - loss: 0.3705 - accuracy: 0.8929 - val_loss: 0.3426 - val_accuracy: 0.9020\n"
          ],
          "name": "stdout"
        },
        {
          "output_type": "execute_result",
          "data": {
            "text/plain": [
              "<tensorflow.python.keras.callbacks.History at 0x7fe6d87903d0>"
            ]
          },
          "metadata": {
            "tags": []
          },
          "execution_count": 20
        }
      ]
    },
    {
      "cell_type": "code",
      "metadata": {
        "id": "0NLtjBIOHpGF"
      },
      "source": [
        "weights = lenet.get_weights()"
      ],
      "execution_count": 21,
      "outputs": []
    },
    {
      "cell_type": "code",
      "metadata": {
        "colab": {
          "base_uri": "https://localhost:8080/"
        },
        "id": "8e2ibdJJ4FN4",
        "outputId": "ca0d4e95-a260-4fe7-8a3c-6ae4116071cd"
      },
      "source": [
        "names = [layer.name for layer in lenet.layers]\n",
        "print(names, len(names))"
      ],
      "execution_count": 23,
      "outputs": [
        {
          "output_type": "stream",
          "text": [
            "['conv2d', 'average_pooling2d', 'conv2d_1', 'average_pooling2d_1', 'flatten', 'dense', 'dense_1', 'dense_2'] 8\n"
          ],
          "name": "stdout"
        }
      ]
    },
    {
      "cell_type": "code",
      "metadata": {
        "colab": {
          "base_uri": "https://localhost:8080/"
        },
        "id": "xjmb1ipy4qqI",
        "outputId": "913a068f-622c-463d-ae57-b180e28e831f"
      },
      "source": [
        "#获得某一层的权重和偏置\n",
        "weight_conv_1,bias_conv_1 = lenet.get_layer('conv2d').get_weights()\n",
        "\n",
        "print(weight_conv_1)\n",
        "print(bias_conv_1)"
      ],
      "execution_count": 29,
      "outputs": [
        {
          "output_type": "stream",
          "text": [
            "[[[[-0.09365595 -0.10492067 -0.04488086  0.07694468  0.2522203\n",
            "    -0.05252232]]\n",
            "\n",
            "  [[ 0.19214858 -0.10285974 -0.01827965 -0.10963855  0.16798039\n",
            "    -0.33464012]]\n",
            "\n",
            "  [[ 0.01748158  0.1350843  -0.17069247 -0.29554507  0.06767922\n",
            "    -0.1123156 ]]\n",
            "\n",
            "  [[ 0.22965248  0.06609989  0.04804255 -0.3104462   0.2063126\n",
            "    -0.14139949]]\n",
            "\n",
            "  [[ 0.2574271   0.18870234 -0.17125261 -0.27790117  0.26597202\n",
            "    -0.28581953]]]\n",
            "\n",
            "\n",
            " [[[ 0.08791953 -0.05859465  0.20104365 -0.12239853  0.08382916\n",
            "    -0.1705797 ]]\n",
            "\n",
            "  [[-0.00328215 -0.10487571 -0.16057514 -0.12568316  0.10283887\n",
            "    -0.2341286 ]]\n",
            "\n",
            "  [[ 0.03269922  0.07718375 -0.00875258 -0.34465143  0.2775463\n",
            "    -0.25206214]]\n",
            "\n",
            "  [[ 0.10566647 -0.00644862 -0.25164622 -0.02261561  0.22115132\n",
            "    -0.30628857]]\n",
            "\n",
            "  [[ 0.10636381  0.09562387 -0.25199953 -0.08063348  0.18950015\n",
            "     0.02297619]]]\n",
            "\n",
            "\n",
            " [[[ 0.05222145 -0.12640291  0.17267115 -0.06823334 -0.05140385\n",
            "    -0.2107856 ]]\n",
            "\n",
            "  [[ 0.07143809 -0.07037984  0.11374459 -0.17930558 -0.05914172\n",
            "    -0.23282626]]\n",
            "\n",
            "  [[-0.06432186  0.08361661 -0.22511539 -0.26999608  0.01061796\n",
            "     0.00877264]]\n",
            "\n",
            "  [[ 0.21246243  0.27978906 -0.15793161 -0.24880148  0.18836738\n",
            "    -0.17873013]]\n",
            "\n",
            "  [[-0.04492519  0.20044583  0.02038965 -0.23456018  0.05169814\n",
            "    -0.14410178]]]\n",
            "\n",
            "\n",
            " [[[ 0.00476062 -0.0644428  -0.07203735 -0.24696024  0.14794739\n",
            "     0.15363462]]\n",
            "\n",
            "  [[ 0.00821885 -0.1148378   0.16989124 -0.28521082 -0.07131723\n",
            "     0.0366028 ]]\n",
            "\n",
            "  [[ 0.09693062  0.13504757 -0.22665381 -0.26544237  0.00201081\n",
            "     0.1939139 ]]\n",
            "\n",
            "  [[ 0.15912074  0.23463616 -0.17208818 -0.23400374  0.13709123\n",
            "     0.03869559]]\n",
            "\n",
            "  [[ 0.26326734  0.2432686  -0.16258736 -0.0674614  -0.0947617\n",
            "    -0.12936595]]]\n",
            "\n",
            "\n",
            " [[[-0.01063154  0.1459475  -0.00264013  0.08209361  0.00356388\n",
            "     0.18347952]]\n",
            "\n",
            "  [[ 0.10658827 -0.1105658   0.16703127 -0.13303544 -0.06562031\n",
            "     0.26249334]]\n",
            "\n",
            "  [[ 0.19192423 -0.0384273  -0.08296444 -0.09513988  0.13553461\n",
            "     0.1643938 ]]\n",
            "\n",
            "  [[ 0.07563857  0.244736   -0.10588276  0.03505855 -0.00137811\n",
            "     0.05288427]]\n",
            "\n",
            "  [[ 0.09673641  0.05197336 -0.15112013 -0.1162145  -0.03181597\n",
            "     0.2262075 ]]]]\n",
            "[-0.19197352  0.05886769  0.0475816   0.04636185 -0.1080213   0.01793436]\n"
          ],
          "name": "stdout"
        }
      ]
    },
    {
      "cell_type": "code",
      "metadata": {
        "id": "N_eVjw_m5i-T"
      },
      "source": [
        ""
      ],
      "execution_count": null,
      "outputs": []
    }
  ]
}